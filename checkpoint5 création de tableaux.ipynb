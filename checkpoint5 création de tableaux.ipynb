{
 "cells": [
  {
   "cell_type": "code",
   "execution_count": 1,
   "id": "6c8e244e",
   "metadata": {},
   "outputs": [
    {
     "name": "stdout",
     "output_type": "stream",
     "text": [
      "[[10 20 15]\n",
      " [30 40 50]]\n",
      "[[10, 20, 15], [30, 40, 50]]\n",
      "<class 'list'>\n"
     ]
    }
   ],
   "source": [
    "#Question 1:\n",
    "import numpy as np\n",
    "tab= np.array([[10,20,15],[30,40,50]])\n",
    "print(tab)\n",
    "list = tab.tolist()\n",
    "print(list)\n",
    "print(type(list))\n"
   ]
  },
  {
   "cell_type": "code",
   "execution_count": 2,
   "id": "58945ab8",
   "metadata": {},
   "outputs": [
    {
     "name": "stdout",
     "output_type": "stream",
     "text": [
      "Numpy Matrix is:\n",
      "[[10 15 20]\n",
      " [25 30 35]\n",
      " [40 45 50]]\n",
      "\n",
      "Trace of given 3X3 matrix:\n",
      "90\n"
     ]
    }
   ],
   "source": [
    "#Question 2:\n",
    "#avec la methode de la fonction trace\n",
    "import numpy as np  \n",
    "narray = np.array([[10, 15, 20],[25, 30, 35],[40, 45, 50]])  \n",
    "print(\"Numpy Matrix is:\")\n",
    "print(narray) \n",
    "trace = np.trace(narray) \n",
    "print(\"\\nTrace of given 3X3 matrix:\")\n",
    "print(trace)\n"
   ]
  },
  {
   "cell_type": "code",
   "execution_count": 3,
   "id": "1242b0f4",
   "metadata": {},
   "outputs": [
    {
     "name": "stdout",
     "output_type": "stream",
     "text": [
      "[10 30 50]\n",
      "90\n"
     ]
    }
   ],
   "source": [
    "#Suite question 2:\n",
    "#avec la 2eme methode:\n",
    "import numpy as np\n",
    "matrix = np.array([[10, 15, 20],[25, 30, 35],[40, 45, 50]])\n",
    "print(matrix.diagonal())\n",
    "print(matrix.diagonal().sum())\n"
   ]
  },
  {
   "cell_type": "code",
   "execution_count": 4,
   "id": "628c214d",
   "metadata": {},
   "outputs": [
    {
     "name": "stdout",
     "output_type": "stream",
     "text": [
      "[[1 2]\n",
      " [3 5]]\n",
      "[3 5]\n"
     ]
    }
   ],
   "source": [
    "#Question 3:\n",
    "matrice2= np.array([[1,2],[3,5]])\n",
    "print(matrice2)\n",
    "print(matrice2[matrice2>2])"
   ]
  },
  {
   "cell_type": "code",
   "execution_count": 5,
   "id": "e0964526",
   "metadata": {},
   "outputs": [
    {
     "name": "stdout",
     "output_type": "stream",
     "text": [
      "[[  5  25  52]\n",
      " [  5  25  55]\n",
      " [ 11  16 121]]\n"
     ]
    }
   ],
   "source": [
    "#Question 4:\n",
    "A = np.array([[3,13,30],[4,14,44],[5,15,55]])\n",
    "B = np.array([[2,12,22],[1,11,11],[6,1,66]])\n",
    "C= A+B\n",
    "print(C)"
   ]
  },
  {
   "cell_type": "code",
   "execution_count": 6,
   "id": "27d3c091",
   "metadata": {},
   "outputs": [
    {
     "name": "stdout",
     "output_type": "stream",
     "text": [
      "35.0\n",
      "[27.33333333 28.33333333 49.33333333]\n",
      "[ 7. 22. 76.]\n",
      "[[ -2.   3. -24.]\n",
      " [ -2.   3. -21.]\n",
      " [  4.  -6.  45.]]\n"
     ]
    }
   ],
   "source": [
    "#Question 5:\n",
    "D=np.mean(C)\n",
    "print(D) # la moyenne de toute la matrice\n",
    "E=np.mean(C, axis=1) # donne la moyenne des lignes\n",
    "F=np.mean(C, axis=0) # donne la moyenne des colonnes \n",
    "print(E)\n",
    "print(F)\n",
    "G = C - F # on soustrait de chaque element la moyenne de sa colonne \n",
    "print(G)"
   ]
  },
  {
   "cell_type": "code",
   "execution_count": null,
   "id": "685bcb77",
   "metadata": {},
   "outputs": [],
   "source": []
  }
 ],
 "metadata": {
  "kernelspec": {
   "display_name": "Python 3 (ipykernel)",
   "language": "python",
   "name": "python3"
  },
  "language_info": {
   "codemirror_mode": {
    "name": "ipython",
    "version": 3
   },
   "file_extension": ".py",
   "mimetype": "text/x-python",
   "name": "python",
   "nbconvert_exporter": "python",
   "pygments_lexer": "ipython3",
   "version": "3.9.12"
  }
 },
 "nbformat": 4,
 "nbformat_minor": 5
}
